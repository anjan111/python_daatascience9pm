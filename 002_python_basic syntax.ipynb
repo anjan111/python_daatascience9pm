{
 "cells": [
  {
   "cell_type": "markdown",
   "metadata": {},
   "source": [
    "# what is syntax\n",
    "\n",
    "# what is instruction\n",
    "\n",
    "# Types of the instructions\n",
    "\n",
    "# Python names\n",
    "\n",
    "# Python variable"
   ]
  },
  {
   "cell_type": "code",
   "execution_count": null,
   "metadata": {},
   "outputs": [],
   "source": [
    "# what is syntax \n",
    "\n",
    "'''\n",
    "---> the structure for writing an instruction / \n",
    "\n",
    "---> The rules we followed for write the instruction\n",
    "\n",
    "'''\n",
    "\n",
    "# What is instruction\n",
    "\n",
    "'''\n",
    "---> A line of code is called instruction\n",
    "\n",
    "'''\n",
    "\n",
    "# What is program \n",
    "\n",
    "'''\n",
    "---> collection of instructions to do any one specific task\n",
    "\n",
    "---> There are 2 types of instructions are available\n",
    "\n",
    "'''\n",
    "\n",
    "# comment\n",
    "\n",
    "'''\n",
    "---> An instruction which can't be executable \n",
    "\n",
    "---> TO understand the each and every statement\n",
    "\n",
    "---> programmer \n",
    "\n",
    "1. single line comment   #\n",
    "\n",
    "2. Multiline comment   '''  --- ----- '''\n",
    "\n",
    "'''\n",
    "\n",
    "# statement\n",
    "\n",
    "'''\n",
    "---> An instruction which can be executable \n",
    "\n",
    "'''"
   ]
  },
  {
   "cell_type": "code",
   "execution_count": null,
   "metadata": {},
   "outputs": [],
   "source": [
    "# single statement\n",
    "print(\"hai\")"
   ]
  },
  {
   "cell_type": "code",
   "execution_count": null,
   "metadata": {},
   "outputs": [],
   "source": [
    "# Multiple statement\n",
    "print(\"hai\") ; print(\"bye \");print(\"hai\")"
   ]
  },
  {
   "cell_type": "code",
   "execution_count": null,
   "metadata": {},
   "outputs": [],
   "source": [
    "# multiline statement\n",
    "print(\"\"\"hai\n",
    "hai\n",
    "bye\n",
    "\"\"\")"
   ]
  },
  {
   "cell_type": "code",
   "execution_count": null,
   "metadata": {},
   "outputs": [],
   "source": [
    "# python names \n",
    "\n",
    "# keyword\n",
    "\n",
    "#-----> Which are the predefined words / built-in words\n",
    "#-----> each keyword which having its own specific task\n",
    "#-----> there are 35 keywords\n",
    "\n",
    "import keyword\n",
    "print(keyword.kwlist)"
   ]
  },
  {
   "cell_type": "code",
   "execution_count": null,
   "metadata": {},
   "outputs": [],
   "source": [
    "# Identifier\n",
    "\n",
    "#---> which are the names, which can be used for to identify the \n",
    "# variable , function, classe with proper names\n",
    "\n",
    "#Rules \n",
    "\n",
    "# ---> we can use alphabet\n",
    "\n",
    "# ---> we can use digits\n",
    "\n",
    "# ---> we can use underscore\n",
    "\n",
    "# ---> don't start with digit\n",
    "\n",
    "# ---> don't use keywords\n",
    "\n",
    "# ---> don't use special character"
   ]
  },
  {
   "cell_type": "code",
   "execution_count": null,
   "metadata": {},
   "outputs": [],
   "source": [
    "# Python variable\n",
    "\n",
    "# ---> variables are used for to store the data into the memory loc as anme\n",
    "\n",
    "# ----> id (data)----> memory loc\n",
    "\n",
    "# variables are the identifiers which are used for to give the reference\n",
    "# of the data\n",
    "\n",
    "print(id(10))\n",
    "print(id(20))\n",
    "print(id(30))"
   ]
  },
  {
   "cell_type": "code",
   "execution_count": null,
   "metadata": {},
   "outputs": [],
   "source": [
    "var = 10\n",
    "print(id(10))\n",
    "print(id(var))\n",
    "var = 20\n",
    "print(id(10))\n",
    "print(id(var))"
   ]
  },
  {
   "cell_type": "code",
   "execution_count": null,
   "metadata": {},
   "outputs": [],
   "source": [
    "var12 = 123\n",
    "print(var12)"
   ]
  },
  {
   "cell_type": "code",
   "execution_count": null,
   "metadata": {},
   "outputs": [],
   "source": [
    "_var12 = 123\n",
    "print(_var12)"
   ]
  },
  {
   "cell_type": "code",
   "execution_count": null,
   "metadata": {},
   "outputs": [],
   "source": [
    "1var12 = 123\n",
    "print(var12)"
   ]
  },
  {
   "cell_type": "code",
   "execution_count": null,
   "metadata": {},
   "outputs": [],
   "source": [
    "while =10\n"
   ]
  },
  {
   "cell_type": "code",
   "execution_count": null,
   "metadata": {},
   "outputs": [],
   "source": [
    "var@we = 123"
   ]
  },
  {
   "cell_type": "markdown",
   "metadata": {},
   "source": [
    "# python datatype \n",
    "\n",
    "# datatype \n",
    "\n",
    "---> Datatypes are used for to specify the what type of data holded by variable\n",
    "\n",
    "---> All datatypes are predefined classes \n",
    "\n",
    "---> we are classifed as 2 types\n",
    "\n",
    "1. fundametal datatype  ---> A single variable can hold single data\n",
    "\n",
    "    a. int\n",
    "    \n",
    "    b. float\n",
    "    \n",
    "    c. complex\n",
    "    \n",
    "    d. bool\n",
    "    \n",
    "    e. Nonatype\n",
    "\n",
    "\n",
    "2. Sequential datatype ---> A single variable can hold multiple data elments\n",
    "\n",
    "    a. str\n",
    "    \n",
    "    b. list\n",
    "    \n",
    "    c. tuple\n",
    "    \n",
    "    d. set\n",
    "    \n",
    "    e. dict\n",
    "    \n",
    "    \n",
    "--> id ---> to know the memory location\n",
    "\n",
    "--> type --> to know the datatype\n",
    "\n",
    "--> print ---> to display the data on monitor"
   ]
  },
  {
   "cell_type": "code",
   "execution_count": null,
   "metadata": {},
   "outputs": [],
   "source": [
    "# int \n",
    "\n",
    "var = 123\n",
    "#type(var)\n",
    "print(type(var))\n",
    "print(id(var))\n",
    "print(\"data in var \",var)"
   ]
  },
  {
   "cell_type": "code",
   "execution_count": null,
   "metadata": {},
   "outputs": [],
   "source": [
    "# float\n",
    "\n",
    "var = 12.90343443\n",
    "print(type(var))\n",
    "print(id(var))\n",
    "print(\"data in var \",var)"
   ]
  },
  {
   "cell_type": "code",
   "execution_count": null,
   "metadata": {},
   "outputs": [],
   "source": [
    "#bool\n",
    "\n",
    "var = True\n",
    "print(type(var))\n",
    "print(id(var))\n",
    "print(\"data in var \",var)\n",
    "\n",
    "\n",
    "var = False\n",
    "print(type(var))\n",
    "print(id(var))\n",
    "print(\"data in var \",var)"
   ]
  },
  {
   "cell_type": "code",
   "execution_count": null,
   "metadata": {},
   "outputs": [],
   "source": [
    "#complex\n",
    "\n",
    "var = 12 + 3j\n",
    "print(type(var))\n",
    "print(id(var))\n",
    "print(\"data in var \",var)"
   ]
  },
  {
   "cell_type": "code",
   "execution_count": null,
   "metadata": {},
   "outputs": [],
   "source": [
    "#Nonae type\n",
    "var = None\n",
    "print(type(var))\n",
    "print(id(var))\n",
    "print(\"data in var \",var)"
   ]
  },
  {
   "cell_type": "code",
   "execution_count": null,
   "metadata": {},
   "outputs": [],
   "source": [
    "# str\n",
    "\n",
    "var = \"python\"\n",
    "print(type(var))\n",
    "print(id(var))\n",
    "print(\"data in var \",var)\n",
    "\n",
    "var = 'python'\n",
    "print(type(var))\n",
    "print(id(var))\n",
    "print(\"data in var \",var)\n",
    "\n",
    "var = '''True'''\n",
    "print(type(var))\n",
    "print(id(var))\n",
    "print(\"data in var \",var)\n",
    "\n",
    "var = \"\"\"True\"\"\"\n",
    "print(type(var))\n",
    "print(id(var))\n",
    "print(\"data in var \",var)"
   ]
  },
  {
   "cell_type": "code",
   "execution_count": null,
   "metadata": {},
   "outputs": [],
   "source": [
    "# list\n",
    "var = [True,None,5,78.89,8+6j]\n",
    "print(type(var))\n",
    "print(id(var))\n",
    "print(\"data in var \",var)"
   ]
  },
  {
   "cell_type": "code",
   "execution_count": null,
   "metadata": {},
   "outputs": [],
   "source": [
    "# tuple\n",
    "var = (True,None,5,78.89,8+6j)\n",
    "print(type(var))\n",
    "print(id(var))\n",
    "print(\"data in var \",var)"
   ]
  },
  {
   "cell_type": "code",
   "execution_count": null,
   "metadata": {},
   "outputs": [],
   "source": [
    "# set\n",
    "var = {True,None,5,78.89,8+6j}\n",
    "print(type(var))\n",
    "print(id(var))\n",
    "print(\"data in var \",var)"
   ]
  },
  {
   "cell_type": "code",
   "execution_count": null,
   "metadata": {},
   "outputs": [],
   "source": [
    "# dict\n",
    "var = {True : \"soc\",None :\"ha\",5 : \"dskfjd\",78.89:\"df\",8+6j:45}\n",
    "print(type(var))\n",
    "print(id(var))\n",
    "print(\"data in var \",var)"
   ]
  },
  {
   "cell_type": "code",
   "execution_count": null,
   "metadata": {},
   "outputs": [],
   "source": [
    "# input function is used for to read the data from keybooard \n",
    "\n",
    "var = input(\"enter some data\")\n",
    "print(type(var))\n",
    "print(id(var))\n",
    "print(\"data in var \",var)"
   ]
  },
  {
   "cell_type": "code",
   "execution_count": null,
   "metadata": {},
   "outputs": [],
   "source": [
    "# input function is used for to read the data from keybooard \n",
    "\n",
    "var = input(\"enter some data\")\n",
    "print(type(var))\n",
    "print(id(var))\n",
    "print(\"data in var \",var)"
   ]
  },
  {
   "cell_type": "code",
   "execution_count": null,
   "metadata": {},
   "outputs": [],
   "source": [
    "var = input(\"enter some data\") # default data type is str\n",
    "print(type(var))\n",
    "print(id(var))\n",
    "print(\"data in var \",var)"
   ]
  },
  {
   "cell_type": "code",
   "execution_count": null,
   "metadata": {},
   "outputs": [],
   "source": [
    "var = input(\"enter some data\")\n",
    "print(type(var))\n",
    "print(id(var))\n",
    "print(\"data in var \",var)\n",
    "var = int(var)\n",
    "print(type(var))\n",
    "print(id(var))\n",
    "print(\"data in var \",var)"
   ]
  },
  {
   "cell_type": "code",
   "execution_count": 1,
   "metadata": {},
   "outputs": [
    {
     "name": "stdout",
     "output_type": "stream",
     "text": [
      "enter some data78.89974\n",
      "<class 'str'>\n",
      "62326403376\n",
      "data in var  78.89974\n",
      "<class 'float'>\n",
      "62323803480\n",
      "data in var  78.89974\n"
     ]
    }
   ],
   "source": [
    "var = input(\"enter some data\")\n",
    "print(type(var))\n",
    "print(id(var))\n",
    "print(\"data in var \",var)\n",
    "var = float(var)\n",
    "print(type(var))\n",
    "print(id(var))\n",
    "print(\"data in var \",var)"
   ]
  },
  {
   "cell_type": "code",
   "execution_count": 2,
   "metadata": {},
   "outputs": [
    {
     "name": "stdout",
     "output_type": "stream",
     "text": [
      "enter some data7+8j\n",
      "<class 'str'>\n",
      "62326395600\n",
      "data in var  7+8j\n",
      "<class 'complex'>\n",
      "62324179536\n",
      "data in var  (7+8j)\n"
     ]
    }
   ],
   "source": [
    "var = input(\"enter some data\")\n",
    "print(type(var))\n",
    "print(id(var))\n",
    "print(\"data in var \",var)\n",
    "var = complex(var)\n",
    "print(type(var))\n",
    "print(id(var))\n",
    "print(\"data in var \",var)"
   ]
  }
 ],
 "metadata": {
  "kernelspec": {
   "display_name": "Python 3",
   "language": "python",
   "name": "python3"
  },
  "language_info": {
   "codemirror_mode": {
    "name": "ipython",
    "version": 3
   },
   "file_extension": ".py",
   "mimetype": "text/x-python",
   "name": "python",
   "nbconvert_exporter": "python",
   "pygments_lexer": "ipython3",
   "version": "3.7.3"
  }
 },
 "nbformat": 4,
 "nbformat_minor": 2
}
