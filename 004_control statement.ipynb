{
 "cells": [
  {
   "cell_type": "code",
   "execution_count": 2,
   "metadata": {},
   "outputs": [
    {
     "name": "stdout",
     "output_type": "stream",
     "text": [
      "enter side of square : 46\n",
      "area =  2116\n",
      "session over\n"
     ]
    }
   ],
   "source": [
    "# simple if\n",
    "'''\n",
    "WAP find the area of square when side is even\n",
    "'''\n",
    "side = input(\"enter side of square : \")\n",
    "side = int(side)\n",
    "if(side % 2 == 0):\n",
    "    area =  side ** 2\n",
    "    print(\"area = \",area)\n",
    "print(\"session over\")"
   ]
  },
  {
   "cell_type": "code",
   "execution_count": 4,
   "metadata": {},
   "outputs": [
    {
     "name": "stdout",
     "output_type": "stream",
     "text": [
      "enter age : 26\n",
      "enter name of you : Anjan\n",
      "enter your father name : ram\n",
      "enter data of birth : 26/01/1994\n",
      "enter your phone number : 9640987960\n",
      "Thanks for visiting the voter id Application center\n"
     ]
    }
   ],
   "source": [
    "# wap for applying voter id application\n",
    "age = input(\"enter age : \")\n",
    "age = int(age)\n",
    "if(age >= 18 ):\n",
    "    name = input(\"enter name of you : \")\n",
    "    dad  = input(\"enter your father name : \")\n",
    "    dob  = input(\"enter data of birth : \")\n",
    "    phoone= input(\"enter your phone number : \")\n",
    "print(\"Thanks for visiting the voter id Application center\")"
   ]
  },
  {
   "cell_type": "code",
   "execution_count": null,
   "metadata": {},
   "outputs": [],
   "source": [
    "# wap give the relationship between any 2 number\n",
    "a<---- take a \n",
    "b<----- take b\n",
    "if a== b----------->then print  a and b both are same\n",
    "if a > b ----------->then print  a is more tha b\n",
    "if a < b ----------->then print  a is lesstahn b"
   ]
  },
  {
   "cell_type": "code",
   "execution_count": 2,
   "metadata": {},
   "outputs": [
    {
     "name": "stdout",
     "output_type": "stream",
     "text": [
      "enter len of the rectangle : 78\n",
      "enter width of the rect    : 71\n",
      "perimeter :  298\n",
      "Task is over \n"
     ]
    }
   ],
   "source": [
    "# if and else\n",
    "#wap find area of the rectangle when sum of len and width is even\n",
    "# otherwise find the perimeter of the rectange\n",
    "l = int(input(\"enter len of the rectangle : \"))\n",
    "b = int(input(\"enter width of the rect    : \"))\n",
    "sum = l + b\n",
    "if(sum % 2 == 0 ):\n",
    "    area = l * b\n",
    "    print(\"area  : \",area)\n",
    "else:\n",
    "    peri = 2*(l+b)\n",
    "    print(\"perimeter : \",peri)\n",
    "print(\"Task is over \")\n"
   ]
  },
  {
   "cell_type": "code",
   "execution_count": 9,
   "metadata": {},
   "outputs": [
    {
     "name": "stdout",
     "output_type": "stream",
     "text": [
      "enter num1 : 78\n",
      "enter num2 : 45\n",
      "num1 is big  78\n"
     ]
    }
   ],
   "source": [
    "# wap find the biggest number from 2 numbers\n",
    "num1 = int(input(\"enter num1 : \"))\n",
    "num2 = int(input(\"enter num2 : \"))\n",
    "if(num1 > num2):\n",
    "    print(\"num1 is big \",num1)\n",
    "else:\n",
    "    print(\"num2 is big \",num2)"
   ]
  },
  {
   "cell_type": "code",
   "execution_count": 12,
   "metadata": {},
   "outputs": [
    {
     "name": "stdout",
     "output_type": "stream",
     "text": [
      "enter num1 : 50\n",
      "enter num2 : 20\n",
      "num1 is big  50\n"
     ]
    }
   ],
   "source": [
    "# wap give the relationship between any 2 numbers\n",
    "num1 = int(input(\"enter num1 : \"))\n",
    "num2 = int(input(\"enter num2 : \"))\n",
    "if(num1 > num2):\n",
    "    print(\"num1 is big \",num1)\n",
    "elif(num1 == num2):\n",
    "    print(\"num1 and num2 both are same \",num1)\n",
    "else:\n",
    "    print(\"num2 is big \",num2)"
   ]
  },
  {
   "cell_type": "code",
   "execution_count": 15,
   "metadata": {},
   "outputs": [
    {
     "name": "stdout",
     "output_type": "stream",
     "text": [
      "enter no of  years of exp : 15\n",
      "Salary : 20Lac PA\n"
     ]
    }
   ],
   "source": [
    "#wap find the salary based on exp\n",
    "exp = int(input(\"enter no of  years of exp : \"))\n",
    "if(exp >= 0 and exp<= 2 ):\n",
    "    print(\"Salary : 3Lac PA\")\n",
    "elif(exp > 2 and exp <=4 ):\n",
    "    print(\"Salary : 6Lac PA\")\n",
    "elif(exp > 4 and exp <=6 ):\n",
    "    print(\"Salary : 8Lac PA\")\n",
    "elif(exp > 6 and exp <=8 ):\n",
    "    print(\"Salary : 12Lac PA\")\n",
    "elif(exp > 8 and exp <=10 ):\n",
    "    print(\"Salary : 15Lac PA\")\n",
    "else:\n",
    "    print(\"Salary : 20Lac PA\")"
   ]
  },
  {
   "cell_type": "code",
   "execution_count": 18,
   "metadata": {},
   "outputs": [
    {
     "data": {
      "text/plain": [
       "True"
      ]
     },
     "execution_count": 18,
     "metadata": {},
     "output_type": "execute_result"
    }
   ],
   "source": [
    "10 and True"
   ]
  }
 ],
 "metadata": {
  "kernelspec": {
   "display_name": "Python 3",
   "language": "python",
   "name": "python3"
  },
  "language_info": {
   "codemirror_mode": {
    "name": "ipython",
    "version": 3
   },
   "file_extension": ".py",
   "mimetype": "text/x-python",
   "name": "python",
   "nbconvert_exporter": "python",
   "pygments_lexer": "ipython3",
   "version": "3.7.3"
  }
 },
 "nbformat": 4,
 "nbformat_minor": 2
}
