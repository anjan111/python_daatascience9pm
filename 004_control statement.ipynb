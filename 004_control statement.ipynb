{
 "cells": [
  {
   "cell_type": "code",
   "execution_count": 2,
   "metadata": {},
   "outputs": [
    {
     "name": "stdout",
     "output_type": "stream",
     "text": [
      "enter side of square : 46\n",
      "area =  2116\n",
      "session over\n"
     ]
    }
   ],
   "source": [
    "# simple if\n",
    "'''\n",
    "WAP find the area of square when side is even\n",
    "'''\n",
    "side = input(\"enter side of square : \")\n",
    "side = int(side)\n",
    "if(side % 2 == 0):\n",
    "    area =  side ** 2\n",
    "    print(\"area = \",area)\n",
    "print(\"session over\")"
   ]
  },
  {
   "cell_type": "code",
   "execution_count": 4,
   "metadata": {},
   "outputs": [
    {
     "name": "stdout",
     "output_type": "stream",
     "text": [
      "enter age : 26\n",
      "enter name of you : Anjan\n",
      "enter your father name : ram\n",
      "enter data of birth : 26/01/1994\n",
      "enter your phone number : 9640987960\n",
      "Thanks for visiting the voter id Application center\n"
     ]
    }
   ],
   "source": [
    "# wap for applying voter id application\n",
    "age = input(\"enter age : \")\n",
    "age = int(age)\n",
    "if(age >= 18 ):\n",
    "    name = input(\"enter name of you : \")\n",
    "    dad  = input(\"enter your father name : \")\n",
    "    dob  = input(\"enter data of birth : \")\n",
    "    phoone= input(\"enter your phone number : \")\n",
    "print(\"Thanks for visiting the voter id Application center\")"
   ]
  },
  {
   "cell_type": "code",
   "execution_count": null,
   "metadata": {},
   "outputs": [],
   "source": [
    "# wap give the relationship between any 2 number\n",
    "a<---- take a \n",
    "b<----- take b\n",
    "if a== b----------->then print  a and b both are same\n",
    "if a > b ----------->then print  a is more tha b\n",
    "if a < b ----------->then print  a is lesstahn b"
   ]
  },
  {
   "cell_type": "code",
   "execution_count": 2,
   "metadata": {},
   "outputs": [
    {
     "name": "stdout",
     "output_type": "stream",
     "text": [
      "enter len of the rectangle : 78\n",
      "enter width of the rect    : 71\n",
      "perimeter :  298\n",
      "Task is over \n"
     ]
    }
   ],
   "source": [
    "# if and else\n",
    "#wap find area of the rectangle when sum of len and width is even\n",
    "# otherwise find the perimeter of the rectange\n",
    "l = int(input(\"enter len of the rectangle : \"))\n",
    "b = int(input(\"enter width of the rect    : \"))\n",
    "sum = l + b\n",
    "if(sum % 2 == 0 ):\n",
    "    area = l * b\n",
    "    print(\"area  : \",area)\n",
    "else:\n",
    "    peri = 2*(l+b)\n",
    "    print(\"perimeter : \",peri)\n",
    "print(\"Task is over \")\n"
   ]
  },
  {
   "cell_type": "code",
   "execution_count": 9,
   "metadata": {},
   "outputs": [
    {
     "name": "stdout",
     "output_type": "stream",
     "text": [
      "enter num1 : 78\n",
      "enter num2 : 45\n",
      "num1 is big  78\n"
     ]
    }
   ],
   "source": [
    "# wap find the biggest number from 2 numbers\n",
    "num1 = int(input(\"enter num1 : \"))\n",
    "num2 = int(input(\"enter num2 : \"))\n",
    "if(num1 > num2):\n",
    "    print(\"num1 is big \",num1)\n",
    "else:\n",
    "    print(\"num2 is big \",num2)"
   ]
  },
  {
   "cell_type": "code",
   "execution_count": 12,
   "metadata": {},
   "outputs": [
    {
     "name": "stdout",
     "output_type": "stream",
     "text": [
      "enter num1 : 50\n",
      "enter num2 : 20\n",
      "num1 is big  50\n"
     ]
    }
   ],
   "source": [
    "# wap give the relationship between any 2 numbers\n",
    "num1 = int(input(\"enter num1 : \"))\n",
    "num2 = int(input(\"enter num2 : \"))\n",
    "if(num1 > num2):\n",
    "    print(\"num1 is big \",num1)\n",
    "elif(num1 == num2):\n",
    "    print(\"num1 and num2 both are same \",num1)\n",
    "else:\n",
    "    print(\"num2 is big \",num2)"
   ]
  },
  {
   "cell_type": "code",
   "execution_count": 15,
   "metadata": {},
   "outputs": [
    {
     "name": "stdout",
     "output_type": "stream",
     "text": [
      "enter no of  years of exp : 15\n",
      "Salary : 20Lac PA\n"
     ]
    }
   ],
   "source": [
    "#wap find the salary based on exp\n",
    "exp = int(input(\"enter no of  years of exp : \"))\n",
    "if(exp >= 0 and exp<= 2 ):\n",
    "    print(\"Salary : 3Lac PA\")\n",
    "elif(exp > 2 and exp <=4 ):\n",
    "    print(\"Salary : 6Lac PA\")\n",
    "elif(exp > 4 and exp <=6 ):\n",
    "    print(\"Salary : 8Lac PA\")\n",
    "elif(exp > 6 and exp <=8 ):\n",
    "    print(\"Salary : 12Lac PA\")\n",
    "elif(exp > 8 and exp <=10 ):\n",
    "    print(\"Salary : 15Lac PA\")\n",
    "else:\n",
    "    print(\"Salary : 20Lac PA\")"
   ]
  },
  {
   "cell_type": "code",
   "execution_count": 2,
   "metadata": {},
   "outputs": [
    {
     "name": "stdout",
     "output_type": "stream",
     "text": [
      "enter a : 78\n",
      "enter b : 77\n",
      "enter c : 56\n",
      "big :  78\n"
     ]
    }
   ],
   "source": [
    "# nested if \n",
    "'''\n",
    " --->Any one conditional statement is having another conditional\n",
    " statement\n",
    " ---> One block can contians another block\n",
    "'''\n",
    "# wap find the biggest number from 3 numbers \n",
    "a = int(input(\"enter a : \"))\n",
    "b = int(input(\"enter b : \"))\n",
    "c = int(input(\"enter c : \"))\n",
    "if(a > b ):\n",
    "    big = a\n",
    "    if(a < c):\n",
    "        big =c\n",
    "else:\n",
    "    big =b\n",
    "    if(b < c):\n",
    "        big  = c\n",
    "print(\"big : \",big)"
   ]
  },
  {
   "cell_type": "code",
   "execution_count": 3,
   "metadata": {},
   "outputs": [
    {
     "name": "stdout",
     "output_type": "stream",
     "text": [
      "enter a : 45\n",
      "enter b : 78\n",
      "enter c : 89\n",
      "big :  89\n"
     ]
    }
   ],
   "source": [
    "a = int(input(\"enter a : \"))\n",
    "b = int(input(\"enter b : \"))\n",
    "c = int(input(\"enter c : \"))\n",
    "if(a > b ):\n",
    "    if(a < c):\n",
    "        big =c\n",
    "    else:\n",
    "        big = a\n",
    "else:\n",
    "    if(b < c):\n",
    "        big  = c\n",
    "    else:\n",
    "        big = b\n",
    "print(\"big : \",big)"
   ]
  },
  {
   "cell_type": "code",
   "execution_count": 12,
   "metadata": {},
   "outputs": [
    {
     "name": "stdout",
     "output_type": "stream",
     "text": [
      "enter pre : 72\n",
      "your qualified for mains\n",
      "enter your mains marks : 85\n",
      "your qualified for interview\n",
      "enter your interview score : 70\n",
      "YOU selected for IAS JOB\n",
      "Thanks for applying IAS exam\n"
     ]
    }
   ],
   "source": [
    "# wap selection process for IAS\n",
    "pre = int(input(\"enter pre : \"))\n",
    "if(pre >=70):\n",
    "    print(\"your qualified for mains\")\n",
    "    main = int(input(\"enter your mains marks : \"))\n",
    "    if(main >=75):\n",
    "        print(\"your qualified for interview\")\n",
    "        inter = int(input(\"enter your interview score : \"))\n",
    "        if(inter >= 65):\n",
    "            print(\"YOU selected for IAS JOB\")\n",
    "        else:\n",
    "            print(\"please prepare for interview\")\n",
    "    else:\n",
    "        print(\"please prepare for mains exams properly\")\n",
    "else:\n",
    "    print(\"please prepare for preliums\")\n",
    "print(\"Thanks for applying IAS exam\")"
   ]
  },
  {
   "cell_type": "code",
   "execution_count": null,
   "metadata": {},
   "outputs": [],
   "source": [
    "# wap find given year is leap year not "
   ]
  },
  {
   "cell_type": "code",
   "execution_count": 17,
   "metadata": {},
   "outputs": [
    {
     "name": "stdout",
     "output_type": "stream",
     "text": [
      "1\n",
      "2\n",
      "3\n",
      "4\n",
      "5\n",
      "6\n",
      "7\n",
      "8\n",
      "9\n",
      "10\n",
      "while loop  ended \n"
     ]
    }
   ],
   "source": [
    "#while  \n",
    "# wap print 1 to 10\n",
    "\n",
    "i = 1 # inital value\n",
    "while(i<=10): # while cond\n",
    "    print(i)  # task\n",
    "    i = i +1  # update the cond\n",
    "else:\n",
    "    print(\"condition is fails \")\n",
    "print(\"while loop  ended \")\n",
    "    "
   ]
  },
  {
   "cell_type": "code",
   "execution_count": 21,
   "metadata": {},
   "outputs": [
    {
     "name": "stdout",
     "output_type": "stream",
     "text": [
      "enter N3\n",
      "sum =  6\n"
     ]
    }
   ],
   "source": [
    "# wap print sum of 1st N natural numbers  \n",
    "# 1+2+3+4+5+6+7----------+N-1+N\n",
    "\n",
    "\n",
    "N = int(input(\"enter N\"))\n",
    "i = 1\n",
    "sum = 0\n",
    "while(i <= N):\n",
    "    sum = sum +i\n",
    "    i = i +1\n",
    "else:\n",
    "    print(\"sum = \",sum)"
   ]
  },
  {
   "cell_type": "code",
   "execution_count": null,
   "metadata": {},
   "outputs": [],
   "source": [
    "# wap print multiplication table for any number \n",
    "# input 5\n",
    "'''\n",
    "5  *  1  =  5\n",
    "5  *  2  =  10\n",
    "5  *  3  =  15\n",
    "--------\n",
    "--------\n",
    "5  *  10  = 50\n",
    "'''"
   ]
  },
  {
   "cell_type": "code",
   "execution_count": 1,
   "metadata": {},
   "outputs": [
    {
     "name": "stdout",
     "output_type": "stream",
     "text": [
      "enter N : 5\n",
      "factorial of  5  is :  120\n"
     ]
    }
   ],
   "source": [
    "#wap find the factorial of a number \n",
    "# 5! ---> 120 ---> 5* 4 *3 *2*1 \n",
    "N = int(input(\"enter N : \"))\n",
    "i = 1\n",
    "fact = 1\n",
    "while(i<= N):\n",
    "    fact = fact * i\n",
    "    i = i +1\n",
    "else:\n",
    "    print(\"factorial of \",N,\" is : \",fact)"
   ]
  },
  {
   "cell_type": "code",
   "execution_count": 9,
   "metadata": {},
   "outputs": [
    {
     "name": "stdout",
     "output_type": "stream",
     "text": [
      "enter N : 10\n",
      "0   1   1   2   3   5   8   13   21   34   "
     ]
    }
   ],
   "source": [
    "# wap find the fibonic series of elements\n",
    "# 7\n",
    "# 0  1  1   2   3  5   8\n",
    "N = int(input(\"enter N : \"))\n",
    "a = 0\n",
    "b = 1\n",
    "i =1\n",
    "while(i <=  N):\n",
    "    print(a,end ='   ')\n",
    "    c = a+b\n",
    "    a =b\n",
    "    b= c\n",
    "    i = i+1"
   ]
  },
  {
   "cell_type": "code",
   "execution_count": 15,
   "metadata": {},
   "outputs": [
    {
     "name": "stdout",
     "output_type": "stream",
     "text": [
      "enter N : 10\n",
      "1  2  5  10  \n",
      "No of factor :  4\n"
     ]
    }
   ],
   "source": [
    "# wap print the factors of a number  and number of factor\n",
    "# 12 ---> 1,2,3,4,6,12 ----> 6\n",
    "\n",
    "N = int(input(\"enter N : \"))\n",
    "fc =0 \n",
    "i =1\n",
    "while(i <= N):\n",
    "    if(N%i==0):\n",
    "        print(i,end=\"  \")\n",
    "        fc += 1\n",
    "    i += 1\n",
    "else:\n",
    "    print(\"\\nNo of factor : \",fc)\n",
    "\n"
   ]
  },
  {
   "cell_type": "code",
   "execution_count": 19,
   "metadata": {},
   "outputs": [
    {
     "name": "stdout",
     "output_type": "stream",
     "text": [
      "enter N : 2\n",
      "1  2  \n",
      "No of factor :  2\n",
      "2  is prime \n"
     ]
    }
   ],
   "source": [
    "# wap find the given number is prime number or not \n",
    "# 12 ---> 1,2,3,4,6,12 ----> 6----> not equal 2---> not prime\n",
    "# 5 ---> 1,5 ----> equal to 2-----> prime \n",
    "N = int(input(\"enter N : \"))\n",
    "fc =0 \n",
    "i =1\n",
    "while(i <= N):\n",
    "    if(N%i==0):\n",
    "        print(i,end=\"  \")\n",
    "        fc += 1\n",
    "    i += 1\n",
    "else:\n",
    "    print(\"\\nNo of factor : \",fc)\n",
    "if(fc == 2):\n",
    "    print(N,\" is prime \")\n",
    "else:\n",
    "    print(N,\" is not a prime\")\n"
   ]
  },
  {
   "cell_type": "code",
   "execution_count": 28,
   "metadata": {},
   "outputs": [
    {
     "name": "stdout",
     "output_type": "stream",
     "text": [
      "enter N : 1258\n",
      "no of digits :  4\n"
     ]
    }
   ],
   "source": [
    "# wap find the no of digits in a number\n",
    "# 475 ---->3\n",
    "# 90341 ---> 5\n",
    "N = int(input(\"enter N : \"))\n",
    "dc =0 \n",
    "i =N\n",
    "if(isinstance(i,int)):\n",
    "    while(i != 0):\n",
    "        dc += 1\n",
    "        i = i // 10\n",
    "\n",
    "    else:\n",
    "        print(\"no of digits : \",dc)"
   ]
  },
  {
   "cell_type": "code",
   "execution_count": 30,
   "metadata": {},
   "outputs": [
    {
     "name": "stdout",
     "output_type": "stream",
     "text": [
      "enter N : 4568\n",
      "sum digits :  23\n"
     ]
    }
   ],
   "source": [
    "# wap find the sum of digits in a number\n",
    "# 475 ---->4+7+5---> 16\n",
    "# 90341 ---> 9+0+3+4+1--->17\n",
    "N = int(input(\"enter N : \"))\n",
    "sum =0 \n",
    "i =N\n",
    "if(isinstance(i,int)):\n",
    "    while(i != 0):\n",
    "        sum = sum +int(i%10)\n",
    "        i = i // 10\n",
    "\n",
    "    else:\n",
    "        print(\"sum digits : \",sum)"
   ]
  },
  {
   "cell_type": "code",
   "execution_count": 22,
   "metadata": {},
   "outputs": [
    {
     "data": {
      "text/plain": [
       "1"
      ]
     },
     "execution_count": 22,
     "metadata": {},
     "output_type": "execute_result"
    }
   ],
   "source": [
    "12 // 10"
   ]
  },
  {
   "cell_type": "code",
   "execution_count": 23,
   "metadata": {},
   "outputs": [
    {
     "data": {
      "text/plain": [
       "0"
      ]
     },
     "execution_count": 23,
     "metadata": {},
     "output_type": "execute_result"
    }
   ],
   "source": [
    "1 // 10"
   ]
  },
  {
   "cell_type": "markdown",
   "metadata": {},
   "source": [
    "# for loop"
   ]
  },
  {
   "cell_type": "code",
   "execution_count": 4,
   "metadata": {},
   "outputs": [
    {
     "name": "stdout",
     "output_type": "stream",
     "text": [
      "enter N : 5\n",
      "5  *  1  =  50\n",
      "5  *  2  =  50\n",
      "5  *  3  =  50\n",
      "5  *  4  =  50\n",
      "5  *  5  =  50\n",
      "5  *  6  =  50\n",
      "5  *  7  =  50\n",
      "5  *  8  =  50\n",
      "5  *  9  =  50\n",
      "5  *  10  =  50\n",
      "No more updates \n",
      "for loop is over\n"
     ]
    }
   ],
   "source": [
    "# wap print the multiplication table for any user number\n",
    "N = int(input(\"enter N : \"))\n",
    "for e in range(1,11):\n",
    "    print(N,\" * \", e,\" = \",N * var)\n",
    "else:\n",
    "    print(\"No more updates \")\n",
    "print(\"for loop is over\")"
   ]
  },
  {
   "cell_type": "code",
   "execution_count": 6,
   "metadata": {},
   "outputs": [
    {
     "name": "stdout",
     "output_type": "stream",
     "text": [
      "enter N : 5\n",
      "factorial of  5  is :  120\n",
      "for loop is over\n"
     ]
    }
   ],
   "source": [
    "# wap find the factorial of a number \n",
    "\n",
    "N = int(input(\"enter N : \"))\n",
    "fact =1\n",
    "for e in range(1,N+1):\n",
    "    fact = fact* e\n",
    "else:\n",
    "    print(\"factorial of \",N, \" is : \",fact)\n",
    "print(\"for loop is over\")\n"
   ]
  }
 ],
 "metadata": {
  "kernelspec": {
   "display_name": "Python 3",
   "language": "python",
   "name": "python3"
  },
  "language_info": {
   "codemirror_mode": {
    "name": "ipython",
    "version": 3
   },
   "file_extension": ".py",
   "mimetype": "text/x-python",
   "name": "python",
   "nbconvert_exporter": "python",
   "pygments_lexer": "ipython3",
   "version": "3.7.3"
  }
 },
 "nbformat": 4,
 "nbformat_minor": 2
}
